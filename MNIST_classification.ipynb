{
  "nbformat": 4,
  "nbformat_minor": 0,
  "metadata": {
    "colab": {
      "provenance": [],
      "mount_file_id": "1MLNXOvaDjaWbGUF4tBAYQZrWjQtNT1i1",
      "authorship_tag": "ABX9TyNdRW0Nu1bnNGhX7QUj27sK",
      "include_colab_link": true
    },
    "kernelspec": {
      "name": "python3",
      "display_name": "Python 3"
    },
    "language_info": {
      "name": "python"
    }
  },
  "cells": [
    {
      "cell_type": "markdown",
      "metadata": {
        "id": "view-in-github",
        "colab_type": "text"
      },
      "source": [
        "<a href=\"https://colab.research.google.com/github/Swapnil5101/MNIST-classification-using-CNN-from-scratch/blob/main/M23MAC009.ipynb\" target=\"_parent\"><img src=\"https://colab.research.google.com/assets/colab-badge.svg\" alt=\"Open In Colab\"/></a>"
      ]
    },
    {
      "cell_type": "markdown",
      "source": [
        "# Deep Learning Assignment 1\n",
        "Implementing a Convolutional Neural Network from scratch using PyTorch framework"
      ],
      "metadata": {
        "id": "dX0P7hcD9Qvg"
      }
    },
    {
      "cell_type": "markdown",
      "source": [
        "## Experiment 1"
      ],
      "metadata": {
        "id": "1L-RX5okKRNQ"
      }
    },
    {
      "cell_type": "markdown",
      "source": [
        "### Import required libraries/modules"
      ],
      "metadata": {
        "id": "xs3GJUSb6Vxc"
      }
    },
    {
      "cell_type": "code",
      "execution_count": null,
      "metadata": {
        "id": "VpYx2zE610RB"
      },
      "outputs": [],
      "source": [
        "import torch\n",
        "from torch import nn\n",
        "import torch.optim as optim\n",
        "from torchvision import transforms\n",
        "from torchvision import datasets\n",
        "from torch.utils.data import DataLoader, TensorDataset\n",
        "import numpy as np\n",
        "import struct\n",
        "import matplotlib.pyplot as plt\n",
        "from sklearn.metrics import confusion_matrix"
      ]
    },
    {
      "cell_type": "code",
      "source": [
        "# Setup the device to run the training data on\n",
        "device = torch.device('cuda' if torch.cuda.is_available() else 'cpu')"
      ],
      "metadata": {
        "id": "D0SYQJ4FQOyr"
      },
      "execution_count": null,
      "outputs": []
    },
    {
      "cell_type": "code",
      "source": [
        "device"
      ],
      "metadata": {
        "colab": {
          "base_uri": "https://localhost:8080/"
        },
        "id": "Ac8P540xG_fN",
        "outputId": "b4a81afa-e05e-470c-a6b8-af1fbe920588"
      },
      "execution_count": null,
      "outputs": [
        {
          "output_type": "execute_result",
          "data": {
            "text/plain": [
              "device(type='cpu')"
            ]
          },
          "metadata": {},
          "execution_count": 3
        }
      ]
    },
    {
      "cell_type": "code",
      "source": [
        "torch.manual_seed(42)\n",
        "if torch.cuda.is_available():\n",
        "   torch.cuda.manual_seed(42)"
      ],
      "metadata": {
        "id": "jlsytgp-N4ot"
      },
      "execution_count": null,
      "outputs": []
    },
    {
      "cell_type": "code",
      "source": [
        "# from google.colab import drive\n",
        "# drive.mount('/content/drive')"
      ],
      "metadata": {
        "id": "rBq8rVocxkL0"
      },
      "execution_count": null,
      "outputs": []
    },
    {
      "cell_type": "markdown",
      "source": [
        "### Load the dataset in suitable format"
      ],
      "metadata": {
        "id": "cPccg1_f6iHP"
      }
    },
    {
      "cell_type": "code",
      "source": [
        "# Load training data\n",
        "with open('/content/drive/MyDrive/DL Assignment1/train-images.idx3-ubyte','rb') as f:\n",
        "    magic, size = struct.unpack(\">II\", f.read(8))\n",
        "    nrows, ncols = struct.unpack(\">II\", f.read(8))\n",
        "    X_train = np.fromfile(f, dtype=np.dtype(np.uint8).newbyteorder('>'))\n",
        "    X_train = X_train.reshape((size, nrows, ncols))"
      ],
      "metadata": {
        "id": "JXnjcfqSK-Mr"
      },
      "execution_count": null,
      "outputs": []
    },
    {
      "cell_type": "code",
      "source": [
        "X_train.shape"
      ],
      "metadata": {
        "colab": {
          "base_uri": "https://localhost:8080/"
        },
        "id": "GVeK4FwSLxdC",
        "outputId": "613d2e99-deed-46aa-b3b3-711528287e3a"
      },
      "execution_count": null,
      "outputs": [
        {
          "output_type": "execute_result",
          "data": {
            "text/plain": [
              "(60000, 28, 28)"
            ]
          },
          "metadata": {},
          "execution_count": 7
        }
      ]
    },
    {
      "cell_type": "code",
      "source": [
        "X_train.dtype, type(X_train)"
      ],
      "metadata": {
        "colab": {
          "base_uri": "https://localhost:8080/"
        },
        "id": "5e1QBzuvMVQv",
        "outputId": "e694a371-d2eb-4a3c-d443-6e7137c6d055"
      },
      "execution_count": null,
      "outputs": [
        {
          "output_type": "execute_result",
          "data": {
            "text/plain": [
              "(dtype('uint8'), numpy.ndarray)"
            ]
          },
          "metadata": {},
          "execution_count": 8
        }
      ]
    },
    {
      "cell_type": "code",
      "source": [
        "plt.imshow(X_train[5,:,:], cmap='gray')\n",
        "plt.show()"
      ],
      "metadata": {
        "colab": {
          "base_uri": "https://localhost:8080/",
          "height": 430
        },
        "id": "tmF0PA_WLxTT",
        "outputId": "c91ed9cd-58f6-4307-f13a-103a1cb0e2c5"
      },
      "execution_count": null,
      "outputs": [
        {
          "output_type": "display_data",
          "data": {
            "text/plain": [
              "<Figure size 640x480 with 1 Axes>"
            ],
            "image/png": "[encoded data removed]"
          },
          "metadata": {}
        }
      ]
    },
    {
      "cell_type": "code",
      "source": [
        "plt.imshow(X_train[1000,:,:], cmap='gray')\n",
        "plt.show()"
      ],
      "metadata": {
        "colab": {
          "base_uri": "https://localhost:8080/",
          "height": 430
        },
        "id": "dfzzwN7S-AIf",
        "outputId": "d52f7628-1c55-4f06-8bcd-50895c0e22d5"
      },
      "execution_count": null,
      "outputs": [
        {
          "output_type": "display_data",
          "data": {
            "text/plain": [
              "<Figure size 640x480 with 1 Axes>"
            ],
            "image/png": "[encoded data removed]"
          },
          "metadata": {}
        }
      ]
    },
    {
      "cell_type": "code",
      "source": [
        "plt.imshow(X_train[25,:,:], cmap='cubehelix')\n",
        "plt.show()"
      ],
      "metadata": {
        "colab": {
          "base_uri": "https://localhost:8080/",
          "height": 430
        },
        "id": "o2z1ENVC-LL3",
        "outputId": "8dd8f30a-f9dc-45fb-de42-4e0a4c0015e7"
      },
      "execution_count": null,
      "outputs": [
        {
          "output_type": "display_data",
          "data": {
            "text/plain": [
              "<Figure size 640x480 with 1 Axes>"
            ],
            "image/png": "[encoded data removed]"
          },
          "metadata": {}
        }
      ]
    },
    {
      "cell_type": "code",
      "source": [
        "# Load training data labels\n",
        "with open('/content/drive/MyDrive/DL Assignment1/train-labels.idx1-ubyte','rb') as f:\n",
        "    magic, size = struct.unpack(\">II\", f.read(8))\n",
        "    y_train = np.fromfile(f, dtype=np.dtype(np.uint8).newbyteorder('>'))\n",
        "    y_train = y_train.reshape((size, ))    # (size, ) or (1, size)\n",
        "\n",
        "print(y_train)"
      ],
      "metadata": {
        "colab": {
          "base_uri": "https://localhost:8080/"
        },
        "id": "mfpVu6stMWc_",
        "outputId": "8eded177-4c12-4627-f539-e55a46c2dd7f"
      },
      "execution_count": null,
      "outputs": [
        {
          "output_type": "stream",
          "name": "stdout",
          "text": [
            "[5 0 4 ... 5 6 8]\n"
          ]
        }
      ]
    },
    {
      "cell_type": "code",
      "source": [
        "y_train.shape"
      ],
      "metadata": {
        "colab": {
          "base_uri": "https://localhost:8080/"
        },
        "id": "kMlIZakcOmi5",
        "outputId": "82d1ef53-7f33-4cfd-c6e1-92958ce27ec6"
      },
      "execution_count": null,
      "outputs": [
        {
          "output_type": "execute_result",
          "data": {
            "text/plain": [
              "(60000,)"
            ]
          },
          "metadata": {},
          "execution_count": 13
        }
      ]
    },
    {
      "cell_type": "code",
      "source": [
        "# Load test data\n",
        "with open('/content/drive/MyDrive/DL Assignment1/t10k-images.idx3-ubyte','rb') as f:\n",
        "    magic, size = struct.unpack(\">II\", f.read(8))\n",
        "    nrows, ncols = struct.unpack(\">II\", f.read(8))\n",
        "    X_test = np.fromfile(f, dtype=np.dtype(np.uint8).newbyteorder('>'))\n",
        "    X_test = X_test.reshape((size, nrows, ncols))"
      ],
      "metadata": {
        "id": "M4pLHm-UOv8d"
      },
      "execution_count": null,
      "outputs": []
    },
    {
      "cell_type": "code",
      "source": [
        "X_test.shape"
      ],
      "metadata": {
        "colab": {
          "base_uri": "https://localhost:8080/"
        },
        "id": "5obBuH0l8X63",
        "outputId": "c5bd0239-b059-4b69-e1d2-0fcb93dac3c1"
      },
      "execution_count": null,
      "outputs": [
        {
          "output_type": "execute_result",
          "data": {
            "text/plain": [
              "(10000, 28, 28)"
            ]
          },
          "metadata": {},
          "execution_count": 15
        }
      ]
    },
    {
      "cell_type": "code",
      "source": [
        "# Load test data labels\n",
        "with open('/content/drive/MyDrive/DL Assignment1/t10k-labels.idx1-ubyte','rb') as f:\n",
        "    magic, size = struct.unpack(\">II\", f.read(8))\n",
        "    y_test = np.fromfile(f, dtype=np.dtype(np.uint8).newbyteorder('>'))\n",
        "    y_test = y_test.reshape((size, ))    # (size, ) or (1, size)\n",
        "\n",
        "print(y_test)"
      ],
      "metadata": {
        "colab": {
          "base_uri": "https://localhost:8080/"
        },
        "id": "_-d7HGPj7uwn",
        "outputId": "aa0fea3d-cfc0-4eab-f19f-57be40de3a07"
      },
      "execution_count": null,
      "outputs": [
        {
          "output_type": "stream",
          "name": "stdout",
          "text": [
            "[7 2 1 ... 4 5 6]\n"
          ]
        }
      ]
    },
    {
      "cell_type": "code",
      "source": [
        "y_test.shape"
      ],
      "metadata": {
        "colab": {
          "base_uri": "https://localhost:8080/"
        },
        "id": "sCb4zjQ17ut3",
        "outputId": "18e6588d-b56c-447a-c72b-ee3148490cf0"
      },
      "execution_count": null,
      "outputs": [
        {
          "output_type": "execute_result",
          "data": {
            "text/plain": [
              "(10000,)"
            ]
          },
          "metadata": {},
          "execution_count": 17
        }
      ]
    },
    {
      "cell_type": "markdown",
      "source": [
        "### Check for missing (NaN) values"
      ],
      "metadata": {
        "id": "A8G04xHqEDfa"
      }
    },
    {
      "cell_type": "code",
      "source": [
        "np.isnan(np.sum(X_train))"
      ],
      "metadata": {
        "colab": {
          "base_uri": "https://localhost:8080/"
        },
        "id": "Qm8M5fQq7up0",
        "outputId": "9aa75a2a-081c-47fd-cf28-6452f30db9d2"
      },
      "execution_count": null,
      "outputs": [
        {
          "output_type": "execute_result",
          "data": {
            "text/plain": [
              "False"
            ]
          },
          "metadata": {},
          "execution_count": 18
        }
      ]
    },
    {
      "cell_type": "code",
      "source": [
        "np.isnan(np.sum(y_train))"
      ],
      "metadata": {
        "colab": {
          "base_uri": "https://localhost:8080/"
        },
        "id": "j97Rei8r7umt",
        "outputId": "5432da56-c322-491b-f403-b4d232d40e8a"
      },
      "execution_count": null,
      "outputs": [
        {
          "output_type": "execute_result",
          "data": {
            "text/plain": [
              "False"
            ]
          },
          "metadata": {},
          "execution_count": 19
        }
      ]
    },
    {
      "cell_type": "code",
      "source": [
        "np.isnan(np.sum(X_test))"
      ],
      "metadata": {
        "colab": {
          "base_uri": "https://localhost:8080/"
        },
        "id": "nBZ5GN3T7ujG",
        "outputId": "62d915cf-9198-4744-bd64-4ccc9c4e2ed7"
      },
      "execution_count": null,
      "outputs": [
        {
          "output_type": "execute_result",
          "data": {
            "text/plain": [
              "False"
            ]
          },
          "metadata": {},
          "execution_count": 20
        }
      ]
    },
    {
      "cell_type": "code",
      "source": [
        "np.isnan(np.sum(y_test))"
      ],
      "metadata": {
        "colab": {
          "base_uri": "https://localhost:8080/"
        },
        "id": "nRd9yiZADRS5",
        "outputId": "8541eafc-1457-412f-8627-6d2f0c7be37e"
      },
      "execution_count": null,
      "outputs": [
        {
          "output_type": "execute_result",
          "data": {
            "text/plain": [
              "False"
            ]
          },
          "metadata": {},
          "execution_count": 21
        }
      ]
    },
    {
      "cell_type": "markdown",
      "source": [
        "The above four results show that there are **no missing (NaN) values** in the whole training and test datasets.\n",
        "\n",
        "---\n",
        "\n"
      ],
      "metadata": {
        "id": "CemGI9TiEa35"
      }
    },
    {
      "cell_type": "markdown",
      "source": [
        "### Some Hyperparameters\n",
        "We shall use the following hyperparameters for training (and for other purposes, wherever needed)"
      ],
      "metadata": {
        "id": "tCK6AaUVeiZD"
      }
    },
    {
      "cell_type": "code",
      "source": [
        "# Assignment Network architecture's point 4.b applies in my case\n",
        "batch_size = 16      # 009 % 3 = 0\n",
        "\n",
        "# learning rate and number of epochs\n",
        "lr = 0.001\n",
        "epochs = 10"
      ],
      "metadata": {
        "id": "ZYTY-B3MfDFp"
      },
      "execution_count": null,
      "outputs": []
    },
    {
      "cell_type": "markdown",
      "source": [
        "### Convert numpy arrays into tensors\n",
        "PyTorch works with tensors"
      ],
      "metadata": {
        "id": "5S0OCJ-cQ3QQ"
      }
    },
    {
      "cell_type": "code",
      "source": [
        "X_train = torch.from_numpy(X_train).type(torch.float)\n",
        "y_train = torch.from_numpy(y_train).type(torch.float)\n",
        "\n",
        "X_test = torch.from_numpy(X_test).type(torch.float)\n",
        "y_test = torch.from_numpy(y_test).type(torch.float)"
      ],
      "metadata": {
        "id": "lust_QTaEwJv"
      },
      "execution_count": null,
      "outputs": []
    },
    {
      "cell_type": "code",
      "source": [
        "X_train[2,:10,:]"
      ],
      "metadata": {
        "colab": {
          "base_uri": "https://localhost:8080/"
        },
        "id": "h3ZZv33WR2og",
        "outputId": "632ef5a2-4780-4548-b823-19b649b625c9"
      },
      "execution_count": null,
      "outputs": [
        {
          "output_type": "execute_result",
          "data": {
            "text/plain": [
              "tensor([[  0.,   0.,   0.,   0.,   0.,   0.,   0.,   0.,   0.,   0.,   0.,   0.,\n",
              "           0.,   0.,   0.,   0.,   0.,   0.,   0.,   0.,   0.,   0.,   0.,   0.,\n",
              "           0.,   0.,   0.,   0.],\n",
              "        [  0.,   0.,   0.,   0.,   0.,   0.,   0.,   0.,   0.,   0.,   0.,   0.,\n",
              "           0.,   0.,   0.,   0.,   0.,   0.,   0.,   0.,   0.,   0.,   0.,   0.,\n",
              "           0.,   0.,   0.,   0.],\n",
              "        [  0.,   0.,   0.,   0.,   0.,   0.,   0.,   0.,   0.,   0.,   0.,   0.,\n",
              "           0.,   0.,   0.,   0.,   0.,   0.,   0.,   0.,   0.,   0.,   0.,   0.,\n",
              "           0.,   0.,   0.,   0.],\n",
              "        [  0.,   0.,   0.,   0.,   0.,   0.,   0.,   0.,   0.,   0.,   0.,   0.,\n",
              "           0.,   0.,   0.,   0.,   0.,   0.,   0.,   0.,   0.,   0.,   0.,   0.,\n",
              "           0.,   0.,   0.,   0.],\n",
              "        [  0.,   0.,   0.,   0.,   0.,   0.,   0.,   0.,   0.,   0.,   0.,   0.,\n",
              "           0.,   0.,   0.,   0.,   0.,   0.,   0.,   0.,   0.,   0.,   0.,   0.,\n",
              "           0.,   0.,   0.,   0.],\n",
              "        [  0.,   0.,   0.,   0.,   0.,   0.,   0.,   0.,   0.,   0.,   0.,   0.,\n",
              "           0.,   0.,   0.,   0.,   0.,   0.,   0.,   0.,  67., 232.,  39.,   0.,\n",
              "           0.,   0.,   0.,   0.],\n",
              "        [  0.,   0.,   0.,   0.,  62.,  81.,   0.,   0.,   0.,   0.,   0.,   0.,\n",
              "           0.,   0.,   0.,   0.,   0.,   0.,   0.,   0., 120., 180.,  39.,   0.,\n",
              "           0.,   0.,   0.,   0.],\n",
              "        [  0.,   0.,   0.,   0., 126., 163.,   0.,   0.,   0.,   0.,   0.,   0.,\n",
              "           0.,   0.,   0.,   0.,   0.,   0.,   0.,   2., 153., 210.,  40.,   0.,\n",
              "           0.,   0.,   0.,   0.],\n",
              "        [  0.,   0.,   0.,   0., 220., 163.,   0.,   0.,   0.,   0.,   0.,   0.,\n",
              "           0.,   0.,   0.,   0.,   0.,   0.,   0.,  27., 254., 162.,   0.,   0.,\n",
              "           0.,   0.,   0.,   0.],\n",
              "        [  0.,   0.,   0.,   0., 222., 163.,   0.,   0.,   0.,   0.,   0.,   0.,\n",
              "           0.,   0.,   0.,   0.,   0.,   0.,   0., 183., 254., 125.,   0.,   0.,\n",
              "           0.,   0.,   0.,   0.]])"
            ]
          },
          "metadata": {},
          "execution_count": 24
        }
      ]
    },
    {
      "cell_type": "code",
      "source": [
        "X_train.dtype, type(X_train)"
      ],
      "metadata": {
        "colab": {
          "base_uri": "https://localhost:8080/"
        },
        "id": "LXtoJxyMSyio",
        "outputId": "34eb5385-664e-416a-92ce-a5f64a9aef0e"
      },
      "execution_count": null,
      "outputs": [
        {
          "output_type": "execute_result",
          "data": {
            "text/plain": [
              "(torch.float32, torch.Tensor)"
            ]
          },
          "metadata": {},
          "execution_count": 25
        }
      ]
    },
    {
      "cell_type": "markdown",
      "source": [
        "Shapes of different tensors:"
      ],
      "metadata": {
        "id": "M2JQT8IJTB4N"
      }
    },
    {
      "cell_type": "code",
      "source": [
        "print(f\"Shape of X_train = {X_train.shape}, y_train = {y_train.shape}, X_test = {X_test.shape}, y_test = {y_test.shape}\")"
      ],
      "metadata": {
        "colab": {
          "base_uri": "https://localhost:8080/"
        },
        "id": "mCKVJjVvSevz",
        "outputId": "d5875319-d57b-48cf-a6f7-b986ff3802bd"
      },
      "execution_count": null,
      "outputs": [
        {
          "output_type": "stream",
          "name": "stdout",
          "text": [
            "Shape of X_train = torch.Size([60000, 28, 28]), y_train = torch.Size([60000]), X_test = torch.Size([10000, 28, 28]), y_test = torch.Size([10000])\n"
          ]
        }
      ]
    },
    {
      "cell_type": "markdown",
      "source": [
        "### Tranforming data and creating loader objects\n"
      ],
      "metadata": {
        "id": "PXgYEyspxWms"
      }
    },
    {
      "cell_type": "code",
      "source": [
        "# Normalize the train and test data to scale between [0, 1]\n",
        "X_train = X_train/255\n",
        "X_test = X_test/255"
      ],
      "metadata": {
        "id": "wnsK6M6ASeoi"
      },
      "execution_count": null,
      "outputs": []
    },
    {
      "cell_type": "code",
      "source": [
        "X_train[2,:10,:]"
      ],
      "metadata": {
        "colab": {
          "base_uri": "https://localhost:8080/"
        },
        "id": "m-IB4u_dSejU",
        "outputId": "a0a41e50-535b-4168-cd2a-8d08478d1603"
      },
      "execution_count": null,
      "outputs": [
        {
          "output_type": "execute_result",
          "data": {
            "text/plain": [
              "tensor([[0.0000, 0.0000, 0.0000, 0.0000, 0.0000, 0.0000, 0.0000, 0.0000, 0.0000,\n",
              "         0.0000, 0.0000, 0.0000, 0.0000, 0.0000, 0.0000, 0.0000, 0.0000, 0.0000,\n",
              "         0.0000, 0.0000, 0.0000, 0.0000, 0.0000, 0.0000, 0.0000, 0.0000, 0.0000,\n",
              "         0.0000],\n",
              "        [0.0000, 0.0000, 0.0000, 0.0000, 0.0000, 0.0000, 0.0000, 0.0000, 0.0000,\n",
              "         0.0000, 0.0000, 0.0000, 0.0000, 0.0000, 0.0000, 0.0000, 0.0000, 0.0000,\n",
              "         0.0000, 0.0000, 0.0000, 0.0000, 0.0000, 0.0000, 0.0000, 0.0000, 0.0000,\n",
              "         0.0000],\n",
              "        [0.0000, 0.0000, 0.0000, 0.0000, 0.0000, 0.0000, 0.0000, 0.0000, 0.0000,\n",
              "         0.0000, 0.0000, 0.0000, 0.0000, 0.0000, 0.0000, 0.0000, 0.0000, 0.0000,\n",
              "         0.0000, 0.0000, 0.0000, 0.0000, 0.0000, 0.0000, 0.0000, 0.0000, 0.0000,\n",
              "         0.0000],\n",
              "        [0.0000, 0.0000, 0.0000, 0.0000, 0.0000, 0.0000, 0.0000, 0.0000, 0.0000,\n",
              "         0.0000, 0.0000, 0.0000, 0.0000, 0.0000, 0.0000, 0.0000, 0.0000, 0.0000,\n",
              "         0.0000, 0.0000, 0.0000, 0.0000, 0.0000, 0.0000, 0.0000, 0.0000, 0.0000,\n",
              "         0.0000],\n",
              "        [0.0000, 0.0000, 0.0000, 0.0000, 0.0000, 0.0000, 0.0000, 0.0000, 0.0000,\n",
              "         0.0000, 0.0000, 0.0000, 0.0000, 0.0000, 0.0000, 0.0000, 0.0000, 0.0000,\n",
              "         0.0000, 0.0000, 0.0000, 0.0000, 0.0000, 0.0000, 0.0000, 0.0000, 0.0000,\n",
              "         0.0000],\n",
              "        [0.0000, 0.0000, 0.0000, 0.0000, 0.0000, 0.0000, 0.0000, 0.0000, 0.0000,\n",
              "         0.0000, 0.0000, 0.0000, 0.0000, 0.0000, 0.0000, 0.0000, 0.0000, 0.0000,\n",
              "         0.0000, 0.0000, 0.2627, 0.9098, 0.1529, 0.0000, 0.0000, 0.0000, 0.0000,\n",
              "         0.0000],\n",
              "        [0.0000, 0.0000, 0.0000, 0.0000, 0.2431, 0.3176, 0.0000, 0.0000, 0.0000,\n",
              "         0.0000, 0.0000, 0.0000, 0.0000, 0.0000, 0.0000, 0.0000, 0.0000, 0.0000,\n",
              "         0.0000, 0.0000, 0.4706, 0.7059, 0.1529, 0.0000, 0.0000, 0.0000, 0.0000,\n",
              "         0.0000],\n",
              "        [0.0000, 0.0000, 0.0000, 0.0000, 0.4941, 0.6392, 0.0000, 0.0000, 0.0000,\n",
              "         0.0000, 0.0000, 0.0000, 0.0000, 0.0000, 0.0000, 0.0000, 0.0000, 0.0000,\n",
              "         0.0000, 0.0078, 0.6000, 0.8235, 0.1569, 0.0000, 0.0000, 0.0000, 0.0000,\n",
              "         0.0000],\n",
              "        [0.0000, 0.0000, 0.0000, 0.0000, 0.8627, 0.6392, 0.0000, 0.0000, 0.0000,\n",
              "         0.0000, 0.0000, 0.0000, 0.0000, 0.0000, 0.0000, 0.0000, 0.0000, 0.0000,\n",
              "         0.0000, 0.1059, 0.9961, 0.6353, 0.0000, 0.0000, 0.0000, 0.0000, 0.0000,\n",
              "         0.0000],\n",
              "        [0.0000, 0.0000, 0.0000, 0.0000, 0.8706, 0.6392, 0.0000, 0.0000, 0.0000,\n",
              "         0.0000, 0.0000, 0.0000, 0.0000, 0.0000, 0.0000, 0.0000, 0.0000, 0.0000,\n",
              "         0.0000, 0.7176, 0.9961, 0.4902, 0.0000, 0.0000, 0.0000, 0.0000, 0.0000,\n",
              "         0.0000]])"
            ]
          },
          "metadata": {},
          "execution_count": 28
        }
      ]
    },
    {
      "cell_type": "markdown",
      "source": [
        "Below is the custom implementation for transforming datasets and then creating their dataloaders."
      ],
      "metadata": {
        "id": "2jkhEZADko1_"
      }
    },
    {
      "cell_type": "code",
      "source": [
        "from torch.utils.data import Dataset\n",
        "from torchvision.datasets import utils\n",
        "import gzip\n",
        "\n",
        "class CustomDataset(Dataset):\n",
        "    def __init__(self, images_file, labels_file, transform=None):\n",
        "        with gzip.open(images_file, 'rb') as f:\n",
        "            f.read(16)\n",
        "            buffer = f.read()\n",
        "            self.images = np.frombuffer(buffer, dtype=np.uint8).reshape(-1, 28, 28)\n",
        "\n",
        "        with gzip.open(labels_file, 'rb') as f:\n",
        "            f.read(8)\n",
        "            buffer = f.read()\n",
        "            self.labels = np.frombuffer(buffer, dtype=np.uint8)\n",
        "\n",
        "        self.transform = transform\n",
        "\n",
        "    def __len__(self):\n",
        "        return len(self.labels)\n",
        "\n",
        "    def __getitem__(self, idx):\n",
        "        image, label = self.images[idx], int(self.labels[idx])\n",
        "\n",
        "        if self.transform:\n",
        "            image = self.transform(image)\n",
        "\n",
        "        return image, label\n",
        "\n",
        "# Transformation to apply on images\n",
        "transform = transforms.Compose([transforms.ToTensor()])\n",
        "\n",
        "# File paths (from google drive)\n",
        "X_train_file = '/content/drive/MyDrive/DL Assignment1/train-images-idx3-ubyte.gz'\n",
        "y_train_file = '/content/drive/MyDrive/DL Assignment1/train-labels-idx1-ubyte.gz'\n",
        "X_test_file = '/content/drive/MyDrive/DL Assignment1/t10k-images-idx3-ubyte.gz'\n",
        "y_test_file = '/content/drive/MyDrive/DL Assignment1/t10k-labels-idx1-ubyte.gz'\n",
        "\n",
        "train_dataset = CustomDataset(X_train_file, y_train_file, transform=transform)\n",
        "test_dataset = CustomDataset(X_test_file, y_test_file, transform=transform)"
      ],
      "metadata": {
        "id": "d1oSXVHC8AxI"
      },
      "execution_count": null,
      "outputs": []
    },
    {
      "cell_type": "markdown",
      "source": [
        "#### Validation Set"
      ],
      "metadata": {
        "id": "VUsHIRKFb0RD"
      }
    },
    {
      "cell_type": "code",
      "source": [
        "from  torch.utils.data import random_split"
      ],
      "metadata": {
        "id": "2_-mOPSpYlMn"
      },
      "execution_count": null,
      "outputs": []
    },
    {
      "cell_type": "code",
      "source": [
        "train_size = int(0.8*len(train_dataset))\n",
        "val_size = len(train_dataset) - train_size\n",
        "\n",
        "train_dataset, val_dataset = random_split(train_dataset, [train_size, val_size])\n",
        "train_labels = [label for _, label in train_dataset]     #<-----\n",
        "val_labels = [label for _, label in val_dataset]         #<----"
      ],
      "metadata": {
        "id": "fye8wYrwV-ro",
        "colab": {
          "base_uri": "https://localhost:8080/"
        },
        "outputId": "8e055b0b-ab6f-4cea-81a1-da709727c494"
      },
      "execution_count": null,
      "outputs": [
        {
          "output_type": "stream",
          "name": "stderr",
          "text": [
            "/usr/local/lib/python3.10/dist-packages/torchvision/transforms/functional.py:152: UserWarning: The given NumPy array is not writable, and PyTorch does not support non-writable tensors. This means writing to this tensor will result in undefined behavior. You may want to copy the array to protect its data or make it writable before converting it to a tensor. This type of warning will be suppressed for the rest of this program. (Triggered internally at ../torch/csrc/utils/tensor_numpy.cpp:206.)\n",
            "  img = torch.from_numpy(pic.transpose((2, 0, 1))).contiguous()\n"
          ]
        }
      ]
    },
    {
      "cell_type": "code",
      "source": [
        "type(train_dataset)"
      ],
      "metadata": {
        "colab": {
          "base_uri": "https://localhost:8080/"
        },
        "id": "0yE_IpNofPr8",
        "outputId": "34ad22d2-1a1e-41b1-f739-9762b7abbf86"
      },
      "execution_count": null,
      "outputs": [
        {
          "output_type": "execute_result",
          "data": {
            "text/plain": [
              "torch.utils.data.dataset.Subset"
            ]
          },
          "metadata": {},
          "execution_count": 32
        }
      ]
    },
    {
      "cell_type": "code",
      "source": [
        "len(val_dataset), len(val_labels)"
      ],
      "metadata": {
        "colab": {
          "base_uri": "https://localhost:8080/"
        },
        "id": "D2zC2nJQZ73K",
        "outputId": "7b7669cf-0dfe-4dec-fe68-a84548ba4d44"
      },
      "execution_count": null,
      "outputs": [
        {
          "output_type": "execute_result",
          "data": {
            "text/plain": [
              "(12000, 12000)"
            ]
          },
          "metadata": {},
          "execution_count": 33
        }
      ]
    },
    {
      "cell_type": "markdown",
      "source": [
        "#### DataLoader objects\n",
        "Train and Test loader objects for Experiment 1"
      ],
      "metadata": {
        "id": "EQQze7yzigHC"
      }
    },
    {
      "cell_type": "code",
      "source": [
        "torch.manual_seed(42)\n",
        "if torch.cuda.is_available():\n",
        "   torch.cuda.manual_seed(42)\n",
        "\n",
        "train_loader1 = DataLoader(dataset=train_dataset, batch_size=batch_size, shuffle=True)\n",
        "\n",
        "val_loader1 = DataLoader(dataset=val_dataset, batch_size=batch_size, shuffle=True)\n",
        "\n",
        "test_loader1 = DataLoader(dataset=test_dataset, batch_size=batch_size, shuffle=True)"
      ],
      "metadata": {
        "id": "GhMRiRqUVlzX"
      },
      "execution_count": null,
      "outputs": []
    },
    {
      "cell_type": "code",
      "source": [
        "# Length of the dataloaders\n",
        "print(\"Length of train_loader1: {}, in batches of {}\".format(len(train_loader1), batch_size))\n",
        "print(\"Length of val_loader1: {}, in batches of {}\".format(len(val_loader1), batch_size))\n",
        "print(\"Length of test_loader1: {}, in batches of {}\".format(len(test_loader1), batch_size))"
      ],
      "metadata": {
        "colab": {
          "base_uri": "https://localhost:8080/"
        },
        "id": "jdXcNCwmJOtn",
        "outputId": "f4cbdfa6-8bbf-4f1d-a5b4-e93dfc61cde1"
      },
      "execution_count": null,
      "outputs": [
        {
          "output_type": "stream",
          "name": "stdout",
          "text": [
            "Length of train_loader1: 3000, in batches of 16\n",
            "Length of val_loader1: 750, in batches of 16\n",
            "Length of test_loader1: 625, in batches of 16\n"
          ]
        }
      ]
    },
    {
      "cell_type": "code",
      "source": [
        "train_loader1"
      ],
      "metadata": {
        "colab": {
          "base_uri": "https://localhost:8080/"
        },
        "id": "x4bPNOMWLzWV",
        "outputId": "b67a67f2-f3f3-434f-ccaa-147e6888f179"
      },
      "execution_count": null,
      "outputs": [
        {
          "output_type": "execute_result",
          "data": {
            "text/plain": [
              "<torch.utils.data.dataloader.DataLoader at 0x7b23e9f5ad10>"
            ]
          },
          "metadata": {},
          "execution_count": 36
        }
      ]
    },
    {
      "cell_type": "code",
      "source": [
        "def display(images, labels, ncols=8):\n",
        "    nrows = np.ceil(len(images) / ncols)\n",
        "    fig, axes = plt.subplots(int(nrows), ncols, figsize=(15, 2 * nrows))\n",
        "\n",
        "    for i, (image, label) in enumerate(zip(images, labels)):\n",
        "        ax = axes[i // ncols, i % ncols] if nrows > 1 else axes[i % ncols]\n",
        "        ax.imshow(image.squeeze(), cmap='gray')\n",
        "        ax.set_title(f\"Label: {label}\")\n",
        "        ax.axis('off')\n",
        "\n",
        "    plt.show()\n",
        "\n",
        "torch.manual_seed(42)\n",
        "if torch.cuda.is_available():\n",
        "   torch.cuda.manual_seed(42)\n",
        "\n",
        "for batch in train_loader1:\n",
        "    batch_images, batch_labels = batch\n",
        "    display(batch_images[:8], batch_labels[:8])\n",
        "    break  #show one batch\n",
        "\n"
      ],
      "metadata": {
        "colab": {
          "base_uri": "https://localhost:8080/",
          "height": 183
        },
        "id": "KNX1nna5Ak-s",
        "outputId": "83a4d2c8-308c-4df2-8c08-54a2c31f6831"
      },
      "execution_count": null,
      "outputs": [
        {
          "output_type": "display_data",
          "data": {
            "text/plain": [
              "<Figure size 1500x200 with 8 Axes>"
            ],
            "image/png": "[encoded data removed]"
          },
          "metadata": {}
        }
      ]
    },
    {
      "cell_type": "markdown",
      "source": [
        "### Building the network and a model\n",
        "**Network Architecture:**\n",
        "1. The network contains **3 fully convolutional layers, excluding fully connected output\n",
        "layer.** The network architecture is as following:\n",
        "\n",
        "  a. ***Convolution layer1***: kernel size = 7x7; Maxpool (2x2);Stride=1;\n",
        "output channels=16\n",
        "\n",
        "  b. ***Convolution layer2***: kernel size=5x5; Maxpool (2x2); Stride=1; output channels=8\n",
        "\n",
        "  c. ***Convolution layer3***: kernel size=3x3; Average pooling (2x2); Stride=2; output\n",
        "channels=4\n",
        "\n",
        "  d. ***Output layer***: set to the size of the #classes\n",
        "\n",
        "  **Assumption:** Filter size = 3x3 is taken for both Maxpool and Average pooling in Experiment 1 and 2x2 in Experiment 2\n",
        "\n",
        "2. Use ***zero padding*** to preserve the input image dimension.\n",
        "\n",
        "3. Use standard train-test splits.\n",
        "4. Set `ReLU` as the activation function for convolution layers and `softmax` for the output\n",
        "layer.\n",
        "5. Use `Adam optimizer`; loss function as `cross-entropy`.\n",
        "6. Train for 10 epochs. Plot accuracy and loss per epoch.\n",
        "7. Prepare a `Confusion matrix` for the test set for all the combinations of the network."
      ],
      "metadata": {
        "id": "6ckPWSgsFj-D"
      }
    },
    {
      "cell_type": "markdown",
      "source": [
        "#### Build the network"
      ],
      "metadata": {
        "id": "hFroTVlFz-uQ"
      }
    },
    {
      "cell_type": "code",
      "source": [
        "# Creating a CNN class\n",
        "class ConvNet(nn.Module):\n",
        "    def __init__(self, num_classes, k, in_fc):\n",
        "        super(ConvNet, self).__init__()\n",
        "        # Conv Layer1\n",
        "        self.cnn1 = nn.Conv2d(in_channels=1, out_channels=16, kernel_size=7, stride=1, padding=3)  # Pad to preserve input size\n",
        "        self.relu1 = nn.ReLU()\n",
        "\n",
        "        # MaxPool1\n",
        "        self.maxpool1 = nn.MaxPool2d(kernel_size = k, stride = 1)\n",
        "\n",
        "        # Conv Layer2\n",
        "        self.cnn2 = nn.Conv2d(in_channels=16, out_channels=8, kernel_size=5, stride=1, padding=2)\n",
        "        self.relu2 = nn.ReLU()\n",
        "\n",
        "        # MaxPool2\n",
        "        self.maxpool2 = nn.MaxPool2d(kernel_size = k, stride = 1)\n",
        "\n",
        "        # Conv Layer3\n",
        "        self.cnn3 = nn.Conv2d(in_channels=8, out_channels=4, kernel_size=3, stride=2, padding=1)\n",
        "        self.relu3 = nn.ReLU()\n",
        "\n",
        "        # Average Pool3\n",
        "        self.avgpool3 = nn.AvgPool2d(kernel_size=k, stride=1)\n",
        "\n",
        "        # Fully Connected output layer\n",
        "        self.fc1 = nn.Linear(in_features=in_fc, out_features=num_classes)       # <--------- in_features subject to changes\n",
        "\n",
        "    def forward(self, out: torch.Tensor):\n",
        "        # Convolution 1\n",
        "        out = self.cnn1(out)\n",
        "        out = self.relu1(out)\n",
        "\n",
        "        # Max pool 1\n",
        "        out = self.maxpool1(out)\n",
        "\n",
        "        # Convolution 2\n",
        "        out = self.cnn2(out)\n",
        "        out = self.relu2(out)\n",
        "\n",
        "        # Max pool 2\n",
        "        out = self.maxpool2(out)\n",
        "\n",
        "        # Convolution 3\n",
        "        out = self.cnn3(out)\n",
        "        out = self.relu3(out)\n",
        "\n",
        "        # Average pool 3\n",
        "        out = self.avgpool3(out)\n",
        "\n",
        "        # Resize\n",
        "        out = out.view(out.size(0), -1)  # Similar to flattening\n",
        "\n",
        "        # Linear function\n",
        "        out = self.fc1(out)\n",
        "\n",
        "        return out"
      ],
      "metadata": {
        "id": "VOVVLwdnSeVf"
      },
      "execution_count": null,
      "outputs": []
    },
    {
      "cell_type": "markdown",
      "source": [
        "#### Create a model for the network\n",
        "'model1' in which all pooling layers have filter size = 3x3 and final size is 4x10x10 (when flattened before output layer)"
      ],
      "metadata": {
        "id": "-FC-_RrY0C7D"
      }
    },
    {
      "cell_type": "code",
      "source": [
        "# Create the model\n",
        "torch.manual_seed(42)\n",
        "if torch.cuda.is_available():\n",
        "   torch.cuda.manual_seed(42)\n",
        "\n",
        "model1 = ConvNet(10, 3, 4*10*10).to(device)\n",
        "model1"
      ],
      "metadata": {
        "id": "fMbwzNhbSeNQ",
        "colab": {
          "base_uri": "https://localhost:8080/"
        },
        "outputId": "66924a54-ec72-40d9-b784-06e8f1b38357"
      },
      "execution_count": null,
      "outputs": [
        {
          "output_type": "execute_result",
          "data": {
            "text/plain": [
              "ConvNet(\n",
              "  (cnn1): Conv2d(1, 16, kernel_size=(7, 7), stride=(1, 1), padding=(3, 3))\n",
              "  (relu1): ReLU()\n",
              "  (maxpool1): MaxPool2d(kernel_size=3, stride=1, padding=0, dilation=1, ceil_mode=False)\n",
              "  (cnn2): Conv2d(16, 8, kernel_size=(5, 5), stride=(1, 1), padding=(2, 2))\n",
              "  (relu2): ReLU()\n",
              "  (maxpool2): MaxPool2d(kernel_size=3, stride=1, padding=0, dilation=1, ceil_mode=False)\n",
              "  (cnn3): Conv2d(8, 4, kernel_size=(3, 3), stride=(2, 2), padding=(1, 1))\n",
              "  (relu3): ReLU()\n",
              "  (avgpool3): AvgPool2d(kernel_size=3, stride=1, padding=0)\n",
              "  (fc1): Linear(in_features=400, out_features=10, bias=True)\n",
              ")"
            ]
          },
          "metadata": {},
          "execution_count": 39
        }
      ]
    },
    {
      "cell_type": "code",
      "source": [
        "# model1 parameters\n",
        "model1.parameters()"
      ],
      "metadata": {
        "id": "7Qy8ls8zSeIm",
        "colab": {
          "base_uri": "https://localhost:8080/"
        },
        "outputId": "f080b496-3b2d-40ea-f954-a32187aa3097"
      },
      "execution_count": null,
      "outputs": [
        {
          "output_type": "execute_result",
          "data": {
            "text/plain": [
              "<generator object Module.parameters at 0x7b23ecd736f0>"
            ]
          },
          "metadata": {},
          "execution_count": 40
        }
      ]
    },
    {
      "cell_type": "code",
      "source": [
        "# 2nd model\n",
        "torch.manual_seed(42)\n",
        "if torch.cuda.is_available():\n",
        "   torch.cuda.manual_seed(42)\n",
        "\n",
        "model2 = ConvNet(10, 2, 4*12*12).to(device)\n",
        "model2"
      ],
      "metadata": {
        "colab": {
          "base_uri": "https://localhost:8080/"
        },
        "id": "AvBepmKaStFY",
        "outputId": "76765909-1c3a-4df2-9055-9d5dd870ff4d"
      },
      "execution_count": null,
      "outputs": [
        {
          "output_type": "execute_result",
          "data": {
            "text/plain": [
              "ConvNet(\n",
              "  (cnn1): Conv2d(1, 16, kernel_size=(7, 7), stride=(1, 1), padding=(3, 3))\n",
              "  (relu1): ReLU()\n",
              "  (maxpool1): MaxPool2d(kernel_size=2, stride=1, padding=0, dilation=1, ceil_mode=False)\n",
              "  (cnn2): Conv2d(16, 8, kernel_size=(5, 5), stride=(1, 1), padding=(2, 2))\n",
              "  (relu2): ReLU()\n",
              "  (maxpool2): MaxPool2d(kernel_size=2, stride=1, padding=0, dilation=1, ceil_mode=False)\n",
              "  (cnn3): Conv2d(8, 4, kernel_size=(3, 3), stride=(2, 2), padding=(1, 1))\n",
              "  (relu3): ReLU()\n",
              "  (avgpool3): AvgPool2d(kernel_size=2, stride=1, padding=0)\n",
              "  (fc1): Linear(in_features=576, out_features=10, bias=True)\n",
              ")"
            ]
          },
          "metadata": {},
          "execution_count": 41
        }
      ]
    },
    {
      "cell_type": "code",
      "source": [
        "# model2 parameters\n",
        "model2.parameters()"
      ],
      "metadata": {
        "colab": {
          "base_uri": "https://localhost:8080/"
        },
        "id": "w52d9-1bTduP",
        "outputId": "de2b9899-3a3d-4c6e-db0f-2c591e848f0b"
      },
      "execution_count": null,
      "outputs": [
        {
          "output_type": "execute_result",
          "data": {
            "text/plain": [
              "<generator object Module.parameters at 0x7b23ecd73b50>"
            ]
          },
          "metadata": {},
          "execution_count": 42
        }
      ]
    },
    {
      "cell_type": "markdown",
      "source": [
        "### Training the model (Loss and Accuracy)"
      ],
      "metadata": {
        "id": "zOVF5IaI8hX2"
      }
    },
    {
      "cell_type": "markdown",
      "source": [
        "#### Loss function"
      ],
      "metadata": {
        "id": "__IKpEEzdedr"
      }
    },
    {
      "cell_type": "code",
      "source": [
        "# For multi-class classification, we take cross entropy loss\n",
        "loss_fn = nn.CrossEntropyLoss()"
      ],
      "metadata": {
        "id": "EGrFI310ddke"
      },
      "execution_count": null,
      "outputs": []
    },
    {
      "cell_type": "markdown",
      "source": [
        "#### Optimizer"
      ],
      "metadata": {
        "id": "15hRb2w8d2kS"
      }
    },
    {
      "cell_type": "code",
      "source": [
        "optimizer1 = torch.optim.Adam(params=model1.parameters(), lr=lr)\n",
        "optimizer2 = torch.optim.Adam(params=model2.parameters(), lr=lr)"
      ],
      "metadata": {
        "id": "hirAfQpEd9Pk"
      },
      "execution_count": null,
      "outputs": []
    },
    {
      "cell_type": "markdown",
      "source": [
        "#### Training loop, calculating loss, validation and test accuracy"
      ],
      "metadata": {
        "id": "96u24_cyrhIb"
      }
    },
    {
      "cell_type": "code",
      "source": [
        "def train_validate_model(model, optimizer, train_loader, val_loader):\n",
        "    train_losses, val_losses, val_accuracies = [], [], []\n",
        "\n",
        "    # Set seed\n",
        "    torch.manual_seed(42)\n",
        "    if torch.cuda.is_available():\n",
        "        torch.cuda.manual_seed(42)\n",
        "\n",
        "    for epoch in range(epochs):\n",
        "        model.train()\n",
        "        current_loss = 0.0\n",
        "        for x, y in train_loader:\n",
        "            x, y = x.to(device), y.to(device)\n",
        "            optimizer.zero_grad()\n",
        "            pred = model(x)\n",
        "            loss = loss_fn(pred, y)\n",
        "            loss.backward()\n",
        "            optimizer.step()\n",
        "            current_loss += loss.item()\n",
        "\n",
        "        train_losses.append(current_loss / len(train_loader))\n",
        "\n",
        "        # Evaluate on the validation set\n",
        "        model.eval()\n",
        "        val_loss = 0.0\n",
        "        val_correct, val_total = 0, 0\n",
        "\n",
        "        with torch.no_grad():\n",
        "            for x, y in val_loader:\n",
        "                x, y = x.to(device), y.to(device)\n",
        "                pred = model(x)\n",
        "                loss = loss_fn(pred, y)\n",
        "                val_loss += loss.item() * len(y)\n",
        "                _, predicted = torch.max(pred.data, 1)\n",
        "                val_total += y.size(0)\n",
        "                val_correct += torch.sum(predicted == y).item()   # to convert from torch scalar into normal scalar value\n",
        "\n",
        "        # Validation loss and accuracy\n",
        "        val_loss /= len(val_dataset)\n",
        "        val_losses.append(val_loss / len(val_loader))\n",
        "        val_acc = val_correct*100 / val_total\n",
        "        val_accuracies.append(val_acc)\n",
        "\n",
        "        print(f\"Epoch [{epoch + 1}/{epochs}], \"\n",
        "              f\"Train Loss: {train_losses[-1]:.4f}, \"\n",
        "              f\"Validation Loss: {val_losses[-1]:.4f}, \"\n",
        "              f\"Validation Accuracy: {val_acc:.4f} \")\n",
        "\n",
        "    return train_losses, val_losses, val_accuracies"
      ],
      "metadata": {
        "id": "Ia81TBtQrgYF"
      },
      "execution_count": null,
      "outputs": []
    },
    {
      "cell_type": "code",
      "source": [
        "def test_accuracy(model, test_loader):\n",
        "    torch.manual_seed(42)\n",
        "    if torch.cuda.is_available():\n",
        "       torch.cuda.manual_seed(42)\n",
        "\n",
        "    model.eval()\n",
        "    correct, total = 0, 0\n",
        "    with torch.no_grad():\n",
        "        for x, y in test_loader:\n",
        "            x, y = x.to(device), y.to(device)\n",
        "            pred = model(x)\n",
        "            _, predicted = torch.max(pred.data, 1)\n",
        "            total += y.size(0)\n",
        "            correct += torch.sum(predicted == y).item()   # to convert from torch scalar into normal scalar value\n",
        "\n",
        "    # Test accuracy\n",
        "    test_acc = correct*100 / total\n",
        "\n",
        "    return test_acc"
      ],
      "metadata": {
        "id": "JzzWudOLkrPV"
      },
      "execution_count": null,
      "outputs": []
    },
    {
      "cell_type": "markdown",
      "source": [
        "###### Model1 training, validation and testing"
      ],
      "metadata": {
        "id": "YxstYOSBTJjp"
      }
    },
    {
      "cell_type": "code",
      "source": [
        "# Train and validate\n",
        "torch.manual_seed(42)\n",
        "if torch.cuda.is_available():\n",
        "   torch.cuda.manual_seed(42)\n",
        "\n",
        "train_losses1, val_losses1, val_accuracies1 = train_validate_model(model1, optimizer1, train_loader1, test_loader1)"
      ],
      "metadata": {
        "colab": {
          "base_uri": "https://localhost:8080/"
        },
        "id": "We_ONFi2TGHI",
        "outputId": "68aa076f-9cc7-406d-9688-f7a541290de7"
      },
      "execution_count": null,
      "outputs": [
        {
          "output_type": "stream",
          "name": "stdout",
          "text": [
            "Epoch [1/10], Train Loss: 1.7342, Validation Loss: 0.0022, Validation Accuracy: 78.4700 \n",
            "Epoch [2/10], Train Loss: 1.5257, Validation Loss: 0.0020, Validation Accuracy: 96.5700 \n",
            "Epoch [3/10], Train Loss: 1.4947, Validation Loss: 0.0020, Validation Accuracy: 96.9000 \n",
            "Epoch [4/10], Train Loss: 1.4935, Validation Loss: 0.0020, Validation Accuracy: 97.3500 \n",
            "Epoch [5/10], Train Loss: 1.4913, Validation Loss: 0.0020, Validation Accuracy: 96.2800 \n",
            "Epoch [6/10], Train Loss: 1.4907, Validation Loss: 0.0020, Validation Accuracy: 96.0700 \n",
            "Epoch [7/10], Train Loss: 1.4912, Validation Loss: 0.0020, Validation Accuracy: 97.0800 \n",
            "Epoch [8/10], Train Loss: 1.4895, Validation Loss: 0.0020, Validation Accuracy: 97.2000 \n",
            "Epoch [9/10], Train Loss: 1.4893, Validation Loss: 0.0020, Validation Accuracy: 97.9100 \n",
            "Epoch [10/10], Train Loss: 1.4888, Validation Loss: 0.0020, Validation Accuracy: 97.8800 \n"
          ]
        }
      ]
    },
    {
      "cell_type": "code",
      "source": [
        "# Test and classify\n",
        "torch.manual_seed(42)\n",
        "if torch.cuda.is_available():\n",
        "   torch.cuda.manual_seed(42)\n",
        "\n",
        "def image_classification(model, dataloader, n):          # n = number of images you want to classify\n",
        "    model.eval()\n",
        "    images, labels = next(iter(dataloader))\n",
        "\n",
        "    with torch.no_grad():\n",
        "        images, labels = images.to(device), labels.to(device)\n",
        "        out = model(images)\n",
        "        _, preds = torch.max(out, 1)\n",
        "\n",
        "    # Map predicted labels back to original classes\n",
        "    predicted_classes = [label.item() for label in preds]\n",
        "\n",
        "    # Display a subset of images with true and predicted labels\n",
        "    plt.figure(figsize=(10, 8))\n",
        "    for i in range(n):\n",
        "        plt.subplot(2, 4, i + 1)\n",
        "        plt.imshow(np.squeeze(images[i].cpu().numpy()), cmap='gray')\n",
        "        plt.title(f\"True: {labels[i].item()}, Predicted: {predicted_classes[i]}\")\n",
        "        plt.axis('off')\n",
        "\n",
        "    plt.show()\n",
        "\n",
        "image_classification(model1, test_loader1, n=8)"
      ],
      "metadata": {
        "colab": {
          "base_uri": "https://localhost:8080/",
          "height": 563
        },
        "id": "ZEv_GSEnfq3T",
        "outputId": "11f80a70-e113-4ba3-dcac-f8f291082930"
      },
      "execution_count": null,
      "outputs": [
        {
          "output_type": "display_data",
          "data": {
            "text/plain": [
              "<Figure size 1000x800 with 8 Axes>"
            ],
            "image/png": "[encoded data removed]"
          },
          "metadata": {}
        }
      ]
    },
    {
      "cell_type": "code",
      "source": [
        "# Model1 Test accuracy\n",
        "torch.manual_seed(42)\n",
        "if torch.cuda.is_available():\n",
        "   torch.cuda.manual_seed(42)\n",
        "\n",
        "accuracy1 = test_accuracy(model1, test_loader1)\n",
        "print(f\"Test accuracy for model1 = {accuracy1}\")"
      ],
      "metadata": {
        "colab": {
          "base_uri": "https://localhost:8080/"
        },
        "id": "8yC782bJmauT",
        "outputId": "ccb88e3a-54d1-4870-abb1-a4e217d083b2"
      },
      "execution_count": null,
      "outputs": [
        {
          "output_type": "stream",
          "name": "stdout",
          "text": [
            "Test accuracy for model1 = 97.88\n"
          ]
        }
      ]
    },
    {
      "cell_type": "markdown",
      "source": [
        "##### Model2 training, validation and testing"
      ],
      "metadata": {
        "id": "0JoQZvquTRBW"
      }
    },
    {
      "cell_type": "code",
      "source": [
        "torch.manual_seed(42)\n",
        "if torch.cuda.is_available():\n",
        "   torch.cuda.manual_seed(42)\n",
        "\n",
        "train_losses2, val_losses2, val_accuracies2 = train_validate_model(model2, optimizer2, train_loader1, test_loader1)"
      ],
      "metadata": {
        "colab": {
          "base_uri": "https://localhost:8080/"
        },
        "id": "B-Rj6ZaMTQXf",
        "outputId": "00282b15-87d3-45f9-babd-0c6b2be0f03e"
      },
      "execution_count": null,
      "outputs": [
        {
          "output_type": "stream",
          "name": "stdout",
          "text": [
            "Epoch [1/10], Train Loss: 1.6583, Validation Loss: 0.0021, Validation Accuracy: 85.8900 \n",
            "Epoch [2/10], Train Loss: 1.5331, Validation Loss: 0.0020, Validation Accuracy: 96.9200 \n",
            "Epoch [3/10], Train Loss: 1.4956, Validation Loss: 0.0020, Validation Accuracy: 96.7300 \n",
            "Epoch [4/10], Train Loss: 1.4922, Validation Loss: 0.0020, Validation Accuracy: 97.4700 \n",
            "Epoch [5/10], Train Loss: 1.4898, Validation Loss: 0.0020, Validation Accuracy: 97.7300 \n",
            "Epoch [6/10], Train Loss: 1.4882, Validation Loss: 0.0020, Validation Accuracy: 97.1400 \n",
            "Epoch [7/10], Train Loss: 1.4878, Validation Loss: 0.0020, Validation Accuracy: 97.6100 \n",
            "Epoch [8/10], Train Loss: 1.4870, Validation Loss: 0.0020, Validation Accuracy: 96.9600 \n",
            "Epoch [9/10], Train Loss: 1.4877, Validation Loss: 0.0020, Validation Accuracy: 97.4800 \n",
            "Epoch [10/10], Train Loss: 1.4860, Validation Loss: 0.0020, Validation Accuracy: 97.0400 \n"
          ]
        }
      ]
    },
    {
      "cell_type": "code",
      "source": [
        "# Test and classify\n",
        "\n",
        "torch.manual_seed(42)\n",
        "if torch.cuda.is_available():\n",
        "   torch.cuda.manual_seed(42)\n",
        "\n",
        "def image_classification(model, dataloader, n):          # n = number of images you want to classify\n",
        "    model.eval()\n",
        "    images, labels = next(iter(dataloader))\n",
        "\n",
        "    with torch.no_grad():\n",
        "        images, labels = images.to(device), labels.to(device)\n",
        "        out = model(images)\n",
        "        _, preds = torch.max(out, 1)\n",
        "\n",
        "    # Map predicted labels back to original classes\n",
        "    predicted_classes = [label.item() for label in preds]\n",
        "\n",
        "    # Display a subset of images with true and predicted labels\n",
        "    plt.figure(figsize=(10, 8))\n",
        "    for i in range(n):\n",
        "        plt.subplot(2, 4, i + 1)\n",
        "        plt.imshow(np.squeeze(images[i].cpu().numpy()), cmap='gray')\n",
        "        plt.title(f\"True: {labels[i].item()}, Predicted: {predicted_classes[i]}\")\n",
        "        plt.axis('off')\n",
        "\n",
        "    plt.show()\n",
        "\n",
        "image_classification(model2, test_loader1, n=8)"
      ],
      "metadata": {
        "id": "p3RfZIc0uys-",
        "colab": {
          "base_uri": "https://localhost:8080/",
          "height": 563
        },
        "outputId": "100d04eb-10f1-48c1-9c6e-624ac9b52664"
      },
      "execution_count": null,
      "outputs": [
        {
          "output_type": "display_data",
          "data": {
            "text/plain": [
              "<Figure size 1000x800 with 8 Axes>"
            ],
            "image/png": "[encoded data removed]"
          },
          "metadata": {}
        }
      ]
    },
    {
      "cell_type": "code",
      "source": [
        "# Model2 Test accuracy\n",
        "torch.manual_seed(42)\n",
        "if torch.cuda.is_available():\n",
        "   torch.cuda.manual_seed(42)\n",
        "\n",
        "accuracy2 = test_accuracy(model2, test_loader1)\n",
        "print(f\"Test accuracy for model2 = {accuracy2}\")"
      ],
      "metadata": {
        "id": "J9bgsR1Qu5ht",
        "colab": {
          "base_uri": "https://localhost:8080/"
        },
        "outputId": "9044f7dd-80ed-4752-9b84-fa7658034d89"
      },
      "execution_count": null,
      "outputs": [
        {
          "output_type": "stream",
          "name": "stdout",
          "text": [
            "Test accuracy for model2 = 97.04\n"
          ]
        }
      ]
    },
    {
      "cell_type": "markdown",
      "source": [
        "### Epochs vs Loss curve"
      ],
      "metadata": {
        "id": "pxvhuZmiwug6"
      }
    },
    {
      "cell_type": "markdown",
      "source": [
        "For model1:"
      ],
      "metadata": {
        "id": "AwZkNhZvTlI7"
      }
    },
    {
      "cell_type": "code",
      "source": [
        "plt.figure(figsize=(7, 7))\n",
        "plt.plot(train_losses1, label='Training Loss', c='g')\n",
        "plt.plot(val_losses1, label='Validation Loss', c='b')\n",
        "plt.xlabel('Epochs')\n",
        "plt.ylabel('Loss')\n",
        "plt.legend()"
      ],
      "metadata": {
        "id": "3LEJ0xPWxDse",
        "colab": {
          "base_uri": "https://localhost:8080/",
          "height": 636
        },
        "outputId": "c51c1d66-4b02-4513-8162-2e0528e05817"
      },
      "execution_count": null,
      "outputs": [
        {
          "output_type": "execute_result",
          "data": {
            "text/plain": [
              "<matplotlib.legend.Legend at 0x79c1d19728c0>"
            ]
          },
          "metadata": {},
          "execution_count": 53
        },
        {
          "output_type": "display_data",
          "data": {
            "text/plain": [
              "<Figure size 700x700 with 1 Axes>"
            ],
            "image/png": "[encoded data removed]"
          },
          "metadata": {}
        }
      ]
    },
    {
      "cell_type": "markdown",
      "source": [
        "For model2:"
      ],
      "metadata": {
        "id": "uYHQs6UcTtx4"
      }
    },
    {
      "cell_type": "code",
      "source": [
        "plt.figure(figsize=(7, 7))\n",
        "plt.plot(train_losses2, label='Training Loss', c='g')\n",
        "plt.plot(val_losses2, label='Validation Loss', c='b')\n",
        "plt.xlabel('Epochs')\n",
        "plt.ylabel('Loss')\n",
        "plt.legend()"
      ],
      "metadata": {
        "id": "57ELZQSzTyEb",
        "colab": {
          "base_uri": "https://localhost:8080/",
          "height": 636
        },
        "outputId": "1265e817-79c0-4e7f-cd96-f40a51c263cc"
      },
      "execution_count": null,
      "outputs": [
        {
          "output_type": "execute_result",
          "data": {
            "text/plain": [
              "<matplotlib.legend.Legend at 0x79c1cef9b640>"
            ]
          },
          "metadata": {},
          "execution_count": 54
        },
        {
          "output_type": "display_data",
          "data": {
            "text/plain": [
              "<Figure size 700x700 with 1 Axes>"
            ],
            "image/png": "[encoded data removed]"
          },
          "metadata": {}
        }
      ]
    },
    {
      "cell_type": "markdown",
      "source": [
        "### Epochs vs Validation test Accuracy"
      ],
      "metadata": {
        "id": "YQtewzcj3pZE"
      }
    },
    {
      "cell_type": "markdown",
      "source": [
        "For model1:"
      ],
      "metadata": {
        "id": "WXh5LMRpT3s9"
      }
    },
    {
      "cell_type": "code",
      "source": [
        "plt.figure(figsize=(7, 7))\n",
        "plt.plot(val_accuracies1, label='Accuracy')\n",
        "plt.xlabel('Epochs')\n",
        "plt.ylabel('Accuracy')\n",
        "plt.legend()\n",
        "plt.show()"
      ],
      "metadata": {
        "id": "W_0jAgDA3rAv",
        "colab": {
          "base_uri": "https://localhost:8080/",
          "height": 619
        },
        "outputId": "b9e39971-c70e-4ddf-8966-62c5216de9d7"
      },
      "execution_count": null,
      "outputs": [
        {
          "output_type": "display_data",
          "data": {
            "text/plain": [
              "<Figure size 700x700 with 1 Axes>"
            ],
            "image/png": "[encoded data removed]"
          },
          "metadata": {}
        }
      ]
    },
    {
      "cell_type": "markdown",
      "source": [
        "For model2:"
      ],
      "metadata": {
        "id": "RS66fS6tUCU2"
      }
    },
    {
      "cell_type": "code",
      "source": [
        "plt.figure(figsize=(7, 7))\n",
        "plt.plot(val_accuracies2, label='Accuracy')\n",
        "plt.xlabel('Epochs')\n",
        "plt.ylabel('Accuracy')\n",
        "plt.legend()\n",
        "plt.show()"
      ],
      "metadata": {
        "id": "XvI1xZlOUFF5",
        "colab": {
          "base_uri": "https://localhost:8080/",
          "height": 619
        },
        "outputId": "1a8ac8bc-e062-426c-cb7e-f8ccc745f331"
      },
      "execution_count": null,
      "outputs": [
        {
          "output_type": "display_data",
          "data": {
            "text/plain": [
              "<Figure size 700x700 with 1 Axes>"
            ],
            "image/png": "[encoded data removed]"
          },
          "metadata": {}
        }
      ]
    },
    {
      "cell_type": "markdown",
      "source": [
        "### Confusion matrix"
      ],
      "metadata": {
        "id": "APCzJ3-b5cLk"
      }
    },
    {
      "cell_type": "markdown",
      "source": [
        "For model1:"
      ],
      "metadata": {
        "id": "32R7ZqMUUhRB"
      }
    },
    {
      "cell_type": "code",
      "source": [
        "torch.manual_seed(42)\n",
        "if torch.cuda.is_available():\n",
        "   torch.cuda.manual_seed(42)\n",
        "\n",
        "model1.eval()\n",
        "labels, preds = [], []\n",
        "\n",
        "with torch.no_grad():\n",
        "    for x, y in test_loader1:\n",
        "        x, y = x.to(device), y.to(device)\n",
        "        out = model1(x)\n",
        "        _, predicted = torch.max(out.data, 1)\n",
        "        labels.extend(y.data.cpu().numpy())\n",
        "        preds.extend(predicted.data.cpu().numpy())\n",
        "\n",
        "matrix1 = confusion_matrix(labels, preds)\n",
        "print('Confusion Matrix for model1:')\n",
        "print(matrix1)"
      ],
      "metadata": {
        "id": "2Oya1Mh3wrPS",
        "colab": {
          "base_uri": "https://localhost:8080/"
        },
        "outputId": "5e9816e5-1a7f-4aa3-8230-f09f6ad50d8e"
      },
      "execution_count": null,
      "outputs": [
        {
          "output_type": "stream",
          "name": "stdout",
          "text": [
            "Confusion Matrix for model1:\n",
            "[[ 972    0    2    0    0    0    4    2    0    0]\n",
            " [   0 1123    4    0    1    2    0    5    0    0]\n",
            " [   6    0 1017    0    0    1    0    7    1    0]\n",
            " [   2    0   15  967    0    9    0    6    4    7]\n",
            " [   0    0    3    0  963    0    1    1    4   10]\n",
            " [   2    0    0    2    0  885    1    0    0    2]\n",
            " [   3    5    0    0    2    4  942    0    2    0]\n",
            " [   1    0    8    0    2    1    0 1011    1    4]\n",
            " [   8    0   17    1    0    6    3    4  924   11]\n",
            " [   4    2    2    0    3    8    0    5    1  984]]\n"
          ]
        }
      ]
    },
    {
      "cell_type": "markdown",
      "source": [
        "For model2:"
      ],
      "metadata": {
        "id": "YN2pK49ZUet9"
      }
    },
    {
      "cell_type": "code",
      "source": [
        "torch.manual_seed(42)\n",
        "if torch.cuda.is_available():\n",
        "   torch.cuda.manual_seed(42)\n",
        "\n",
        "model2.eval()\n",
        "labels, preds = [], []\n",
        "\n",
        "with torch.no_grad():\n",
        "    for x, y in test_loader1:\n",
        "        x, y = x.to(device), y.to(device)\n",
        "        out = model2(x)\n",
        "        _, predicted = torch.max(out.data, 1)\n",
        "        labels.extend(y.data.cpu().numpy())\n",
        "        preds.extend(predicted.data.cpu().numpy())\n",
        "\n",
        "matrix2 = confusion_matrix(labels, preds)\n",
        "print('Confusion Matrix for model2:')\n",
        "print(matrix2)"
      ],
      "metadata": {
        "id": "AbtXqHLuURfz",
        "colab": {
          "base_uri": "https://localhost:8080/"
        },
        "outputId": "97f49c8d-7984-458c-a97f-2d55becb3e9a"
      },
      "execution_count": null,
      "outputs": [
        {
          "output_type": "stream",
          "name": "stdout",
          "text": [
            "Confusion Matrix for model2:\n",
            "[[ 971    1    0    0    0    0    5    1    1    1]\n",
            " [   0 1123    0    6    0    0    3    2    1    0]\n",
            " [   1    5  918   54    6    0    0   46    2    0]\n",
            " [   0    0    0  993    0    4    0   11    2    0]\n",
            " [   0    2    1    0  973    0    0    3    0    3]\n",
            " [   2    0    0   14    0  871    3    1    0    1]\n",
            " [   8    3    1    1    3    6  932    0    4    0]\n",
            " [   0    1    1    1    0    0    0 1025    0    0]\n",
            " [   5    3    2    9    1    7    1   14  927    5]\n",
            " [   2    5    0    8    6    5    0   11    1  971]]\n"
          ]
        }
      ]
    },
    {
      "cell_type": "markdown",
      "source": [
        "## Experiment 2\n",
        "Creating new classes and classifying the images using the same CNNs used for model1 and model2.\n",
        "\n",
        "New class groups are:\n",
        "\n",
        "**Class 0: {0, 6}**\n",
        "\n",
        "**Class 1: {1, 7}**\n",
        "\n",
        "**Class 2: {2, 3, 8, 5}**\n",
        "\n",
        "**Class 3: {4, 9}**\n",
        "\n",
        "**The class numbers are started from 0 instead of 1 to avoid index bound error in later stage of code.**"
      ],
      "metadata": {
        "id": "9aseo7iM8fiP"
      }
    },
    {
      "cell_type": "markdown",
      "source": [
        "### Create new classes and map with originals"
      ],
      "metadata": {
        "id": "miYXbNbzAoiC"
      }
    },
    {
      "cell_type": "code",
      "source": [
        "train_dataset = CustomDataset(X_train_file, y_train_file, transform=transform)"
      ],
      "metadata": {
        "id": "GaQ5j3jimgy1"
      },
      "execution_count": null,
      "outputs": []
    },
    {
      "cell_type": "code",
      "source": [
        "new_classes = {0: 0, 6: 0, 1: 1, 7: 1, 2: 2, 3: 2, 8: 2, 5: 2, 4: 3, 9: 3}\n",
        "\n",
        "# Map the original labels to the new classes\n",
        "train_labels_mapped = torch.LongTensor([new_classes[label.item()] for label in train_dataset.labels])\n",
        "test_labels_mapped = torch.LongTensor([new_classes[label.item()] for label in test_dataset.labels])"
      ],
      "metadata": {
        "id": "8IfQozhD88KO"
      },
      "execution_count": null,
      "outputs": []
    },
    {
      "cell_type": "code",
      "source": [
        "print(train_labels_mapped)\n",
        "print(test_labels_mapped)"
      ],
      "metadata": {
        "id": "4WadRZOHZo3n",
        "colab": {
          "base_uri": "https://localhost:8080/"
        },
        "outputId": "a44f2a5a-a676-4939-914c-c08830586187"
      },
      "execution_count": null,
      "outputs": [
        {
          "output_type": "stream",
          "name": "stdout",
          "text": [
            "tensor([2, 0, 3,  ..., 2, 0, 2])\n",
            "tensor([1, 2, 1,  ..., 3, 2, 0])\n"
          ]
        }
      ]
    },
    {
      "cell_type": "markdown",
      "source": [
        "### Convert to Tensors and DataLoaders"
      ],
      "metadata": {
        "id": "xGe1dLEpA4Sn"
      }
    },
    {
      "cell_type": "code",
      "source": [
        "# Convert to PyTorch tensors\n",
        "train_images = torch.Tensor(train_dataset.images).unsqueeze(1)\n",
        "test_images = torch.Tensor(test_dataset.images).unsqueeze(1)\n",
        "\n",
        "# Create DataLoader\n",
        "train_dataset2 = TensorDataset(train_images, train_labels_mapped)\n",
        "test_dataset2 = TensorDataset(test_images, test_labels_mapped)\n",
        "\n",
        "train_loader2 = DataLoader(train_dataset2, batch_size=batch_size, shuffle=True)\n",
        "test_loader2 = DataLoader(test_dataset2, batch_size=batch_size, shuffle=True)"
      ],
      "metadata": {
        "id": "PqCHRyP6A2kT"
      },
      "execution_count": null,
      "outputs": []
    },
    {
      "cell_type": "code",
      "source": [
        "# Length of the dataloaders\n",
        "print(\"Length of train_loader2: {}, in batches of {}\".format(len(train_loader2), batch_size))\n",
        "print(\"Length of test_loader2: {}, in batches of {}\".format(len(test_loader2), batch_size))"
      ],
      "metadata": {
        "id": "MY8cyBqbBQJW",
        "colab": {
          "base_uri": "https://localhost:8080/"
        },
        "outputId": "1d959718-5dce-4562-a50b-d9575ca421ca"
      },
      "execution_count": null,
      "outputs": [
        {
          "output_type": "stream",
          "name": "stdout",
          "text": [
            "Length of train_loader2: 3750, in batches of 16\n",
            "Length of test_loader2: 625, in batches of 16\n"
          ]
        }
      ]
    },
    {
      "cell_type": "markdown",
      "source": [
        "### Display images of new classes"
      ],
      "metadata": {
        "id": "ISjLKBq8H9Hr"
      }
    },
    {
      "cell_type": "markdown",
      "source": [
        "Show the images of the new batches formed using new class groups created."
      ],
      "metadata": {
        "id": "ybtMupg_HGkH"
      }
    },
    {
      "cell_type": "code",
      "source": [
        "def display(images, labels, ncols=8):\n",
        "    nrows = np.ceil(len(images) / ncols)\n",
        "    fig, axes = plt.subplots(int(nrows), ncols, figsize=(15, 2 * nrows))\n",
        "\n",
        "    for i, (image, label) in enumerate(zip(images, labels)):\n",
        "        ax = axes[i // ncols, i % ncols] if nrows > 1 else axes[i % ncols]\n",
        "        ax.imshow(image.squeeze(), cmap='gray')\n",
        "        ax.set_title(f\"Label: {label}\")\n",
        "        ax.axis('off')\n",
        "\n",
        "    plt.show()\n",
        "\n",
        "for batch in train_loader2:\n",
        "    batch_images, batch_labels = batch\n",
        "    display(batch_images[:8], batch_labels[:8])\n",
        "    break  #show one batch"
      ],
      "metadata": {
        "id": "XIbuod1FDVDx",
        "colab": {
          "base_uri": "https://localhost:8080/",
          "height": 183
        },
        "outputId": "c934102e-2d2b-411f-ed16-65c05cda6040"
      },
      "execution_count": null,
      "outputs": [
        {
          "output_type": "display_data",
          "data": {
            "text/plain": [
              "<Figure size 1500x200 with 8 Axes>"
            ],
            "image/png": "[encoded data removed]"
          },
          "metadata": {}
        }
      ]
    },
    {
      "cell_type": "markdown",
      "source": [
        "The above images correctly fall in their respective class category"
      ],
      "metadata": {
        "id": "uuXC2p3GHVcQ"
      }
    },
    {
      "cell_type": "markdown",
      "source": [
        "### Models and optimizers for new classes"
      ],
      "metadata": {
        "id": "bh64oh2uJROa"
      }
    },
    {
      "cell_type": "code",
      "source": [
        "new_model1 = ConvNet(4, 3, 4*10*10).to(device)\n",
        "new_model1"
      ],
      "metadata": {
        "id": "_ZM6bCuuDVBB",
        "colab": {
          "base_uri": "https://localhost:8080/"
        },
        "outputId": "aa8033dd-870d-4797-c366-f9aa7285413d"
      },
      "execution_count": null,
      "outputs": [
        {
          "output_type": "execute_result",
          "data": {
            "text/plain": [
              "ConvNet(\n",
              "  (cnn1): Conv2d(1, 16, kernel_size=(7, 7), stride=(1, 1), padding=(3, 3))\n",
              "  (relu1): ReLU()\n",
              "  (maxpool1): MaxPool2d(kernel_size=3, stride=1, padding=0, dilation=1, ceil_mode=False)\n",
              "  (cnn2): Conv2d(16, 8, kernel_size=(5, 5), stride=(1, 1), padding=(2, 2))\n",
              "  (relu2): ReLU()\n",
              "  (maxpool2): MaxPool2d(kernel_size=3, stride=1, padding=0, dilation=1, ceil_mode=False)\n",
              "  (cnn3): Conv2d(8, 4, kernel_size=(3, 3), stride=(2, 2), padding=(1, 1))\n",
              "  (relu3): ReLU()\n",
              "  (avgpool3): AvgPool2d(kernel_size=3, stride=1, padding=0)\n",
              "  (fc1): Linear(in_features=400, out_features=4, bias=True)\n",
              ")"
            ]
          },
          "metadata": {},
          "execution_count": 53
        }
      ]
    },
    {
      "cell_type": "code",
      "source": [
        "new_model2 = ConvNet(4, 2, 4*12*12).to(device)\n",
        "new_model2"
      ],
      "metadata": {
        "id": "lhz3QiKlDU-S",
        "colab": {
          "base_uri": "https://localhost:8080/"
        },
        "outputId": "ca1bc078-91b0-4e17-a726-58033d9df960"
      },
      "execution_count": null,
      "outputs": [
        {
          "output_type": "execute_result",
          "data": {
            "text/plain": [
              "ConvNet(\n",
              "  (cnn1): Conv2d(1, 16, kernel_size=(7, 7), stride=(1, 1), padding=(3, 3))\n",
              "  (relu1): ReLU()\n",
              "  (maxpool1): MaxPool2d(kernel_size=2, stride=1, padding=0, dilation=1, ceil_mode=False)\n",
              "  (cnn2): Conv2d(16, 8, kernel_size=(5, 5), stride=(1, 1), padding=(2, 2))\n",
              "  (relu2): ReLU()\n",
              "  (maxpool2): MaxPool2d(kernel_size=2, stride=1, padding=0, dilation=1, ceil_mode=False)\n",
              "  (cnn3): Conv2d(8, 4, kernel_size=(3, 3), stride=(2, 2), padding=(1, 1))\n",
              "  (relu3): ReLU()\n",
              "  (avgpool3): AvgPool2d(kernel_size=2, stride=1, padding=0)\n",
              "  (fc1): Linear(in_features=576, out_features=4, bias=True)\n",
              ")"
            ]
          },
          "metadata": {},
          "execution_count": 54
        }
      ]
    },
    {
      "cell_type": "code",
      "source": [
        "optimizer_1 = torch.optim.Adam(params=new_model1.parameters(), lr=lr)\n",
        "optimizer_2 = torch.optim.Adam(params=new_model2.parameters(), lr=lr)"
      ],
      "metadata": {
        "id": "Mj7ua02gDU7t"
      },
      "execution_count": null,
      "outputs": []
    },
    {
      "cell_type": "markdown",
      "source": [
        "### Training of new class images"
      ],
      "metadata": {
        "id": "YCVFroOtKRrm"
      }
    },
    {
      "cell_type": "code",
      "source": [
        "import os\n",
        "os.environ['CUDA_LAUNCH_BLOCKING'] = '1'\n",
        "os.environ['TORCH_USE_CUDA_DSA'] = '1'"
      ],
      "metadata": {
        "id": "507OY6nGZBtT"
      },
      "execution_count": null,
      "outputs": []
    },
    {
      "cell_type": "code",
      "source": [
        "new_train_losses1, new_test_losses1, new_accuracies1 = train_validate_model(new_model1, optimizer_1, train_loader2, test_loader2)"
      ],
      "metadata": {
        "colab": {
          "base_uri": "https://localhost:8080/"
        },
        "id": "Lfim57jjJp_I",
        "outputId": "e65463c9-7484-402d-c565-e5955536ab2c"
      },
      "execution_count": null,
      "outputs": [
        {
          "output_type": "stream",
          "name": "stdout",
          "text": [
            "Epoch [1/10], Train Loss: 1.3544, Validation Loss: 0.0018, Validation Accuracy: 39.0800 \n",
            "Epoch [2/10], Train Loss: 1.3543, Validation Loss: 0.0018, Validation Accuracy: 39.0800 \n",
            "Epoch [3/10], Train Loss: 1.3543, Validation Loss: 0.0018, Validation Accuracy: 39.0800 \n",
            "Epoch [4/10], Train Loss: 1.3543, Validation Loss: 0.0018, Validation Accuracy: 39.0800 \n",
            "Epoch [5/10], Train Loss: 1.3543, Validation Loss: 0.0018, Validation Accuracy: 39.0800 \n",
            "Epoch [6/10], Train Loss: 1.3543, Validation Loss: 0.0018, Validation Accuracy: 39.0800 \n",
            "Epoch [7/10], Train Loss: 1.3543, Validation Loss: 0.0018, Validation Accuracy: 39.0800 \n",
            "Epoch [8/10], Train Loss: 1.3543, Validation Loss: 0.0018, Validation Accuracy: 39.0800 \n",
            "Epoch [9/10], Train Loss: 1.3543, Validation Loss: 0.0018, Validation Accuracy: 39.0800 \n",
            "Epoch [10/10], Train Loss: 1.3543, Validation Loss: 0.0018, Validation Accuracy: 39.0800 \n"
          ]
        }
      ]
    },
    {
      "cell_type": "code",
      "source": [
        "new_train_losses2, new_test_losses2, new_accuracies2 = train_validate_model(new_model2, optimizer_2, train_loader2, test_loader2)"
      ],
      "metadata": {
        "id": "x20o49u2Jpyv",
        "colab": {
          "base_uri": "https://localhost:8080/"
        },
        "outputId": "474c0da1-3a92-493f-fab4-6545c71d519d"
      },
      "execution_count": null,
      "outputs": [
        {
          "output_type": "stream",
          "name": "stdout",
          "text": [
            "Epoch [1/10], Train Loss: 0.8116, Validation Loss: 0.0010, Validation Accuracy: 96.2800 \n",
            "Epoch [2/10], Train Loss: 0.8049, Validation Loss: 0.0011, Validation Accuracy: 95.5700 \n",
            "Epoch [3/10], Train Loss: 0.8064, Validation Loss: 0.0011, Validation Accuracy: 94.7600 \n",
            "Epoch [4/10], Train Loss: 0.8109, Validation Loss: 0.0011, Validation Accuracy: 93.6000 \n",
            "Epoch [5/10], Train Loss: 0.8135, Validation Loss: 0.0011, Validation Accuracy: 93.8800 \n",
            "Epoch [6/10], Train Loss: 0.8291, Validation Loss: 0.0010, Validation Accuracy: 96.1300 \n",
            "Epoch [7/10], Train Loss: 0.8827, Validation Loss: 0.0011, Validation Accuracy: 93.4900 \n",
            "Epoch [8/10], Train Loss: 0.8282, Validation Loss: 0.0011, Validation Accuracy: 95.5400 \n",
            "Epoch [9/10], Train Loss: 0.8547, Validation Loss: 0.0013, Validation Accuracy: 74.9800 \n",
            "Epoch [10/10], Train Loss: 0.8481, Validation Loss: 0.0011, Validation Accuracy: 95.4800 \n"
          ]
        }
      ]
    },
    {
      "cell_type": "markdown",
      "source": [
        "### Epochs vs Loss curve"
      ],
      "metadata": {
        "id": "baWxMd2WUbsG"
      }
    },
    {
      "cell_type": "code",
      "source": [
        "plt.figure(figsize=(5, 5))\n",
        "plt.plot(new_train_losses2, label='Training Loss')\n",
        "plt.plot(new_test_losses2, label='Validation Loss')\n",
        "plt.xlabel('Epochs')\n",
        "plt.ylabel('Loss')\n",
        "plt.legend()"
      ],
      "metadata": {
        "id": "4deiA-IUkzeL",
        "colab": {
          "base_uri": "https://localhost:8080/",
          "height": 482
        },
        "outputId": "98f199f2-b056-4fc6-a51f-34c844e970e5"
      },
      "execution_count": null,
      "outputs": [
        {
          "output_type": "execute_result",
          "data": {
            "text/plain": [
              "<matplotlib.legend.Legend at 0x7b23ebfed270>"
            ]
          },
          "metadata": {},
          "execution_count": 58
        },
        {
          "output_type": "display_data",
          "data": {
            "text/plain": [
              "<Figure size 500x500 with 1 Axes>"
            ],
            "image/png": "[encoded data removed]"
          },
          "metadata": {}
        }
      ]
    },
    {
      "cell_type": "markdown",
      "source": [
        "### Epoch vs Accuracy curve"
      ],
      "metadata": {
        "id": "lMHZPfNuLDJq"
      }
    },
    {
      "cell_type": "code",
      "source": [
        "plt.figure(figsize=(7, 7))\n",
        "plt.plot(new_accuracies2, label='Accuracy')\n",
        "plt.xlabel('Epochs')\n",
        "plt.ylabel('Accuracy')\n",
        "plt.legend()\n",
        "plt.show()"
      ],
      "metadata": {
        "colab": {
          "base_uri": "https://localhost:8080/",
          "height": 619
        },
        "id": "o1h0Dzl4Jwbo",
        "outputId": "907da898-ded6-4c05-8521-e9a397201d88"
      },
      "execution_count": null,
      "outputs": [
        {
          "output_type": "display_data",
          "data": {
            "text/plain": [
              "<Figure size 700x700 with 1 Axes>"
            ],
            "image/png": "[encoded data removed]"
          },
          "metadata": {}
        }
      ]
    },
    {
      "cell_type": "markdown",
      "source": [
        "### Test accuracies of the new models"
      ],
      "metadata": {
        "id": "8GfF-V5dLZnL"
      }
    },
    {
      "cell_type": "code",
      "source": [
        "# new_model1 Test accuracy\n",
        "torch.manual_seed(42)\n",
        "if torch.cuda.is_available():\n",
        "   torch.cuda.manual_seed(42)\n",
        "\n",
        "new_accuracy1 = test_accuracy(new_model1, test_loader2)\n",
        "print(f\"Test accuracy for new_model2 = {new_accuracy1} %\")"
      ],
      "metadata": {
        "id": "XKub7w2Q_4aR",
        "colab": {
          "base_uri": "https://localhost:8080/"
        },
        "outputId": "be554ed1-00af-4198-b271-a53b8d5fb4b2"
      },
      "execution_count": null,
      "outputs": [
        {
          "output_type": "stream",
          "name": "stdout",
          "text": [
            "Test accuracy for new_model2 = 39.08 %\n"
          ]
        }
      ]
    },
    {
      "cell_type": "code",
      "source": [
        "# new_model2 Test accuracy\n",
        "torch.manual_seed(42)\n",
        "if torch.cuda.is_available():\n",
        "   torch.cuda.manual_seed(42)\n",
        "\n",
        "new_accuracy2 = test_accuracy(new_model2, test_loader2)\n",
        "print(f\"Test accuracy for new_model2 = {new_accuracy2} %\")"
      ],
      "metadata": {
        "id": "4ahU1Kh1_4dQ",
        "colab": {
          "base_uri": "https://localhost:8080/"
        },
        "outputId": "261e088f-937f-4ea5-bd9b-dff5196c79ad"
      },
      "execution_count": null,
      "outputs": [
        {
          "output_type": "stream",
          "name": "stdout",
          "text": [
            "Test accuracy for new_model2 = 95.48 %\n"
          ]
        }
      ]
    },
    {
      "cell_type": "markdown",
      "source": [
        "### Classification of the test images"
      ],
      "metadata": {
        "id": "L3RsZ5FFLeei"
      }
    },
    {
      "cell_type": "code",
      "source": [
        "def image_classification(model, dataloader, n):          # n = number of images you want to classify\n",
        "    model.eval()\n",
        "    images, labels = next(iter(dataloader))\n",
        "\n",
        "    with torch.no_grad():\n",
        "        images, labels = images.to(device), labels.to(device)\n",
        "        out = model(images)\n",
        "        _, preds = torch.max(out, 1)\n",
        "\n",
        "    # Map predicted labels back to original classes\n",
        "    predicted_classes = [label.item() for label in preds]\n",
        "\n",
        "    # Display a subset of images with true and predicted labels\n",
        "    plt.figure(figsize=(10, 8))\n",
        "    for i in range(n):\n",
        "        plt.subplot(2, 4, i + 1)\n",
        "        plt.imshow(np.squeeze(images[i].cpu().numpy()), cmap='gray')\n",
        "        plt.title(f\"True: {labels[i].item()}, Predicted: {predicted_classes[i]}\")\n",
        "        plt.axis('off')\n",
        "\n",
        "    plt.show()"
      ],
      "metadata": {
        "id": "xOFDwq0nWuR-"
      },
      "execution_count": null,
      "outputs": []
    },
    {
      "cell_type": "code",
      "source": [
        "# Classification using new_model2\n",
        "image_classification(new_model2, test_loader2, n=8)"
      ],
      "metadata": {
        "colab": {
          "base_uri": "https://localhost:8080/",
          "height": 563
        },
        "id": "_UdTkq4ed2Pf",
        "outputId": "a0a67377-0008-4aee-bd8d-2ba9a1793746"
      },
      "execution_count": null,
      "outputs": [
        {
          "output_type": "display_data",
          "data": {
            "text/plain": [
              "<Figure size 1000x800 with 8 Axes>"
            ],
            "image/png": "[encoded data removed]"
          },
          "metadata": {}
        }
      ]
    },
    {
      "cell_type": "code",
      "source": [
        "# Classification using new_model1\n",
        "image_classification(new_model1, test_loader1, n=8)"
      ],
      "metadata": {
        "colab": {
          "base_uri": "https://localhost:8080/",
          "height": 563
        },
        "id": "i6xdyPFUW1v-",
        "outputId": "4384a08c-a0b6-4209-be38-869ad0474029"
      },
      "execution_count": null,
      "outputs": [
        {
          "output_type": "display_data",
          "data": {
            "text/plain": [
              "<Figure size 1000x800 with 8 Axes>"
            ],
            "image/png": "[encoded data removed]"
          },
          "metadata": {}
        }
      ]
    }
  ]
}
